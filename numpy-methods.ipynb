{
 "cells": [
  {
   "cell_type": "code",
   "execution_count": 6,
   "metadata": {},
   "outputs": [],
   "source": [
    "import numpy as np "
   ]
  },
  {
   "cell_type": "code",
   "execution_count": 7,
   "metadata": {},
   "outputs": [],
   "source": [
    "# np.array() creates a numpy list from an existing list or a new list can be entered within the object \n",
    "\n",
    "a = np.array([[[1,2],[3,2]],[[3,5],[4,7]],[[1,4],[2,9]]]) # this is a 3-D array \n",
    "a2 = np.array([[2,4],[6,7],[9,2]]) # this is a 2-D array\n",
    "a3 = np.array([1,2,3,4]) # this is a 1-D array"
   ]
  },
  {
   "cell_type": "code",
   "execution_count": 8,
   "metadata": {},
   "outputs": [
    {
     "name": "stdout",
     "output_type": "stream",
     "text": [
      "[1.  1.5 2.  2.5 3. ]\n"
     ]
    }
   ],
   "source": [
    "# np.linspace() creates an evenly spaced array , in this case it creates an array having 5 elements from 1-3 \n",
    "i = np.linspace(1,3,5)\n",
    "print(i)"
   ]
  },
  {
   "cell_type": "code",
   "execution_count": 9,
   "metadata": {},
   "outputs": [
    {
     "name": "stdout",
     "output_type": "stream",
     "text": [
      "[1.  1.5 2.  2.5 3.  3.5 4.  4.5 5.  5.5 6.  6.5 7.  7.5 8.  8.5 9.  9.5]\n"
     ]
    }
   ],
   "source": [
    "# np.arrange() creates a 1-D array , in this case it creates an array  of digits from 1 to 10 with a step of 0.5 \n",
    "b = np.arange(1,10,0.5)\n",
    "print(b)"
   ]
  },
  {
   "cell_type": "code",
   "execution_count": 10,
   "metadata": {},
   "outputs": [
    {
     "name": "stdout",
     "output_type": "stream",
     "text": [
      "[2 7] [[1 0 0]\n",
      " [0 2 0]\n",
      " [0 0 3]]\n"
     ]
    }
   ],
   "source": [
    "# np.diag() creates a diagonal matrix with the inputs being the diagonal elements and all other elements being zero \n",
    "\"\"\" It also has another function , i.e , when a 2-D or higher dimensional array is given as input \n",
    "it gives a 1-D array containing diagonal elemets as output \"\"\"\n",
    "c = np.diag(a2)\n",
    "c2 = np.diag([1,2,3])\n",
    "print(c,c2)"
   ]
  },
  {
   "cell_type": "code",
   "execution_count": 11,
   "metadata": {},
   "outputs": [
    {
     "name": "stdout",
     "output_type": "stream",
     "text": [
      "[[[0. 0. 0.]\n",
      "  [0. 0. 0.]]]\n"
     ]
    }
   ],
   "source": [
    "# np.zeros() creates a zero matrix , in this case it creates one zero matrix having two rows and 3 columns \n",
    "d = np.zeros((1,2,3))\n",
    "print(d)"
   ]
  },
  {
   "cell_type": "code",
   "execution_count": 12,
   "metadata": {},
   "outputs": [
    {
     "name": "stdout",
     "output_type": "stream",
     "text": [
      "[[1. 0. 0.]\n",
      " [0. 1. 0.]\n",
      " [0. 0. 1.]]\n"
     ]
    }
   ],
   "source": [
    "# np.eye creates an identity matrix whose order is the input \n",
    "e = np.eye(3)\n",
    "print(e)"
   ]
  },
  {
   "cell_type": "code",
   "execution_count": 13,
   "metadata": {},
   "outputs": [
    {
     "name": "stdout",
     "output_type": "stream",
     "text": [
      "[[[1. 1. 1.]\n",
      "  [1. 1. 1.]\n",
      "  [1. 1. 1.]]]\n"
     ]
    }
   ],
   "source": [
    "# np.ones() creates a matrix with all elements being 1 , in this case it creates 1 matrix having 3 rows and 3 columns\n",
    "f = np.ones((1,3,3))\n",
    "print(f)"
   ]
  },
  {
   "cell_type": "code",
   "execution_count": 14,
   "metadata": {},
   "outputs": [
    {
     "name": "stdout",
     "output_type": "stream",
     "text": [
      "[9 2 3 5 4]\n"
     ]
    }
   ],
   "source": [
    "\n",
    "# np.random.randint() creates random integers , in this case it creates 5 random numbers from 1 to 10\n",
    "g = np.random.randint(1,10,5)\n",
    "print(g)\n"
   ]
  },
  {
   "cell_type": "code",
   "execution_count": 15,
   "metadata": {},
   "outputs": [
    {
     "name": "stdout",
     "output_type": "stream",
     "text": [
      "[[1. 0. 0.]\n",
      " [0. 1. 0.]\n",
      " [0. 0. 1.]]\n"
     ]
    }
   ],
   "source": [
    "\n",
    "# The view object duplicates an array , but it is not a true copy of the array as any changes made into duplicate will affect the original array \n",
    "e2 = e.view()\n",
    "print(e2)"
   ]
  },
  {
   "cell_type": "code",
   "execution_count": 16,
   "metadata": {},
   "outputs": [
    {
     "name": "stdout",
     "output_type": "stream",
     "text": [
      "[[[1. 1. 1.]\n",
      "  [1. 1. 1.]\n",
      "  [1. 1. 1.]]]\n"
     ]
    }
   ],
   "source": [
    "# np.copy() copies an array , it is a true copy \n",
    "f2 = np.copy(f)\n",
    "print(f2)"
   ]
  },
  {
   "cell_type": "code",
   "execution_count": 17,
   "metadata": {},
   "outputs": [
    {
     "name": "stdout",
     "output_type": "stream",
     "text": [
      "[[1 2]\n",
      " [3 2]\n",
      " [3 5]\n",
      " [4 7]\n",
      " [1 4]\n",
      " [2 9]]\n"
     ]
    }
   ],
   "source": [
    "# np.vstack() takes a 2-D or higher dimensional array and vertically stacks the elements  \n",
    "h1 = np.vstack(a)\n",
    "print(h1)"
   ]
  },
  {
   "cell_type": "code",
   "execution_count": 18,
   "metadata": {},
   "outputs": [
    {
     "name": "stdout",
     "output_type": "stream",
     "text": [
      "[1. 0. 0. 0. 1. 0. 0. 0. 1.]\n"
     ]
    }
   ],
   "source": [
    "\n",
    "# np.hstack() takes a 2-D or higher dimensional array and horizontally stacks the elements \n",
    "h2 = np.hstack(e)\n",
    "print(h2)"
   ]
  },
  {
   "cell_type": "code",
   "execution_count": 19,
   "metadata": {},
   "outputs": [
    {
     "name": "stdout",
     "output_type": "stream",
     "text": [
      "(3, 3)\n"
     ]
    }
   ],
   "source": [
    "# np.shape() returns the shape of array ( order of the matrix)\n",
    "j = np.shape(e)\n",
    "print(j)"
   ]
  },
  {
   "cell_type": "code",
   "execution_count": 25,
   "metadata": {},
   "outputs": [
    {
     "name": "stdout",
     "output_type": "stream",
     "text": [
      "[[1 2 3]\n",
      " [4 5 6]]\n"
     ]
    }
   ],
   "source": [
    "#  np.reshape() takes all the elements into one set and creates a matrix of desired shape or order m*n ( in this case-(2,3) ) this does not work if number of elements is not equal to m*n\n",
    "\n",
    "x = np.array([[1,2],[3,4],[5,6]])\n",
    "y = np.reshape(x,(2,3))\n",
    "print(y)"
   ]
  },
  {
   "cell_type": "code",
   "execution_count": 48,
   "metadata": {},
   "outputs": [
    {
     "name": "stdout",
     "output_type": "stream",
     "text": [
      "[[2 4]\n",
      " [6 7]\n",
      " [1 2]\n",
      " [3 4]\n",
      " [5 6]]\n"
     ]
    }
   ],
   "source": [
    "# np.concatenate() joins arrays \n",
    "m = np.concatenate((a2,x))\n",
    "print(m)"
   ]
  },
  {
   "cell_type": "code",
   "execution_count": 26,
   "metadata": {},
   "outputs": [
    {
     "name": "stdout",
     "output_type": "stream",
     "text": [
      "[1 2 3 4 5 6]\n"
     ]
    }
   ],
   "source": [
    "# np.ravel() collapses N-dimesnional array into a 1-D array \n",
    "k = np.ravel(x)\n",
    "print(k)"
   ]
  },
  {
   "cell_type": "code",
   "execution_count": 37,
   "metadata": {},
   "outputs": [
    {
     "name": "stdout",
     "output_type": "stream",
     "text": [
      "[ 2  4  6  8 10]\n"
     ]
    }
   ],
   "source": [
    "# Array slicing for 1-D arrays : It is method of extracting a part of an array to be used in another array or function \n",
    "# It can be depicted as [start:end:step] where start and end are the indices of the elements \n",
    "# If start or end values are not specified , it is considered 0 whereas step is considered 1 if unspecified\n",
    "z = np.array([1,2,3,4,5,6,7,8,9,10])\n",
    "z1 = z[1:10:2]\n",
    "print(z1)\n",
    "#if negative values are used it means the index is counted from the left"
   ]
  },
  {
   "cell_type": "code",
   "execution_count": 39,
   "metadata": {},
   "outputs": [
    {
     "name": "stdout",
     "output_type": "stream",
     "text": [
      "[5 6]\n"
     ]
    }
   ],
   "source": [
    "# Array slicing for 2-D arrays : \n",
    "# it is depicted as [x , start:end:step] where x is the index number for the array which is to be sliced\n",
    "l = x[2,0:2:1]\n",
    "print(l)"
   ]
  },
  {
   "cell_type": "code",
   "execution_count": 41,
   "metadata": {},
   "outputs": [
    {
     "name": "stdout",
     "output_type": "stream",
     "text": [
      "1\n",
      "2\n",
      "3\n",
      "4\n",
      "5\n",
      "6\n"
     ]
    }
   ],
   "source": [
    "# Iterating elements : It means running through every element in the array \n",
    "# Iterating is required for many functions , so the np.nditer() method is used  \n",
    "for v in np.nditer(x):\n",
    "    print(v)"
   ]
  },
  {
   "cell_type": "code",
   "execution_count": 50,
   "metadata": {},
   "outputs": [
    {
     "name": "stdout",
     "output_type": "stream",
     "text": [
      "[array([[2, 4],\n",
      "       [6, 7]]), array([[1, 2],\n",
      "       [3, 4]]), array([[5, 6]])]\n"
     ]
    }
   ],
   "source": [
    "# np.array_split() into the number of parts we want the array to split into \n",
    "w = np.array_split(m , 3)\n",
    "print(w)"
   ]
  },
  {
   "cell_type": "code",
   "execution_count": 57,
   "metadata": {},
   "outputs": [
    {
     "name": "stdout",
     "output_type": "stream",
     "text": [
      "(array([], dtype=int64),)\n"
     ]
    },
    {
     "name": "stderr",
     "output_type": "stream",
     "text": [
      "C:\\Users\\sohan\\AppData\\Local\\Temp\\ipykernel_3416\\3888106429.py:3: DeprecationWarning: Calling nonzero on 0d arrays is deprecated, as it behaves surprisingly. Use `atleast_1d(cond).nonzero()` if the old behavior was intended. If the context of this warning is of the form `arr[nonzero(cond)]`, just use `arr[cond]`.\n",
      "  u = np.where(v == 2)\n"
     ]
    }
   ],
   "source": [
    "# np.where() method allows you to search the array according to the condition we input \n",
    "# in this case , I want all even numbers \n",
    "u = np.where(v == 2)\n",
    "print(u)"
   ]
  },
  {
   "cell_type": "code",
   "execution_count": 59,
   "metadata": {},
   "outputs": [
    {
     "name": "stdout",
     "output_type": "stream",
     "text": [
      "[ 0  4  6 11 12 23 37 53 54 77]\n"
     ]
    }
   ],
   "source": [
    "# np.sort() allows us to re-arrange the elements in ascending order \n",
    "\n",
    "q = np.array([11,23,4,53,6,77,54,37,0,12])\n",
    "s = np.sort(q)\n",
    "print(s)"
   ]
  },
  {
   "cell_type": "code",
   "execution_count": 60,
   "metadata": {},
   "outputs": [
    {
     "name": "stdout",
     "output_type": "stream",
     "text": [
      "[2 2 2 4 4 4 6 6 6 7 7 7 1 1 1 2 2 2 3 3 3 4 4 4 5 5 5 6 6 6]\n"
     ]
    }
   ],
   "source": [
    "# np.repeat() method allows us to repeat the elements of an array the number of times we want to \n",
    "t = np.repeat(m,3)\n",
    "print(t)"
   ]
  }
 ],
 "metadata": {
  "kernelspec": {
   "display_name": "Python 3",
   "language": "python",
   "name": "python3"
  },
  "language_info": {
   "codemirror_mode": {
    "name": "ipython",
    "version": 3
   },
   "file_extension": ".py",
   "mimetype": "text/x-python",
   "name": "python",
   "nbconvert_exporter": "python",
   "pygments_lexer": "ipython3",
   "version": "3.11.7"
  }
 },
 "nbformat": 4,
 "nbformat_minor": 2
}
