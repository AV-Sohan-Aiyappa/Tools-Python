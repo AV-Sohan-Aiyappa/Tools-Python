{
 "cells": [
  {
   "cell_type": "code",
   "execution_count": 1,
   "metadata": {},
   "outputs": [],
   "source": [
    "import pandas as pd\n",
    "import numpy as np"
   ]
  },
  {
   "cell_type": "code",
   "execution_count": 2,
   "metadata": {},
   "outputs": [],
   "source": [
    "data = {'Name': ['Alice', 'Bob', 'Charlie', 'David', 'Eve'],\n",
    "        'Age': [25, 30, 28, 35, 22],\n",
    "        'City': ['New York', 'Los Angeles', 'Chicago', 'Austin', 'Seattle'],\n",
    "        'Score': [85, 90, 78, 92, 80]}"
   ]
  },
  {
   "cell_type": "code",
   "execution_count": 3,
   "metadata": {},
   "outputs": [
    {
     "name": "stdout",
     "output_type": "stream",
     "text": [
      "      Name  Age         City  Score\n",
      "0    Alice   25     New York     85\n",
      "1      Bob   30  Los Angeles     90\n",
      "2  Charlie   28      Chicago     78\n",
      "3    David   35       Austin     92\n",
      "4      Eve   22      Seattle     80\n"
     ]
    }
   ],
   "source": [
    "\n",
    "# Create a pandas DataFrame from the dictionary\n",
    "df = pd.DataFrame(data)\n",
    "print(df)"
   ]
  },
  {
   "cell_type": "code",
   "execution_count": null,
   "metadata": {},
   "outputs": [],
   "source": [
    "#importing csv file\n",
    "csv = pd.read_csv('iris.csv')"
   ]
  },
  {
   "cell_type": "code",
   "execution_count": 14,
   "metadata": {},
   "outputs": [
    {
     "name": "stdout",
     "output_type": "stream",
     "text": [
      "            Age     Score\n",
      "Age    1.000000  0.739003\n",
      "Score  0.739003  1.000000\n"
     ]
    }
   ],
   "source": [
    "#removing string column and finding correlation\n",
    "dataset = df.select_dtypes(exclude = \"object\")\n",
    "print(dataset.corr())"
   ]
  },
  {
   "cell_type": "code",
   "execution_count": 15,
   "metadata": {},
   "outputs": [
    {
     "name": "stdout",
     "output_type": "stream",
     "text": [
      "<class 'pandas.core.frame.DataFrame'>\n",
      "RangeIndex: 5 entries, 0 to 4\n",
      "Data columns (total 4 columns):\n",
      " #   Column  Non-Null Count  Dtype \n",
      "---  ------  --------------  ----- \n",
      " 0   Name    5 non-null      object\n",
      " 1   Age     5 non-null      int64 \n",
      " 2   City    5 non-null      object\n",
      " 3   Score   5 non-null      int64 \n",
      "dtypes: int64(2), object(2)\n",
      "memory usage: 292.0+ bytes\n",
      "None\n"
     ]
    }
   ],
   "source": [
    "#get info about data \n",
    "print(df.info())"
   ]
  },
  {
   "cell_type": "code",
   "execution_count": 4,
   "metadata": {},
   "outputs": [
    {
     "name": "stdout",
     "output_type": "stream",
     "text": [
      "\n",
      "Age column:\n",
      " 0    25\n",
      "1    30\n",
      "2    28\n",
      "3    35\n",
      "4    22\n",
      "Name: Age, dtype: int64\n"
     ]
    }
   ],
   "source": [
    "# **1. Selection by Label (Column)**\n",
    "# Select the 'Age' column\n",
    "age_col = df['Age']\n",
    "print(\"\\nAge column:\\n\", age_col)"
   ]
  },
  {
   "cell_type": "code",
   "execution_count": 5,
   "metadata": {},
   "outputs": [
    {
     "name": "stdout",
     "output_type": "stream",
     "text": [
      "\n",
      "First row:\n",
      " Name        Alice\n",
      "Age            25\n",
      "City     New York\n",
      "Score          85\n",
      "Name: 0, dtype: object\n"
     ]
    }
   ],
   "source": [
    "# **2. Selection by Position (Index)**\n",
    "# Select the first row\n",
    "first_row = df.iloc[0]  # Using integer location (0-based indexing)\n",
    "print(\"\\nFirst row:\\n\", first_row)"
   ]
  },
  {
   "cell_type": "code",
   "execution_count": 6,
   "metadata": {},
   "outputs": [
    {
     "name": "stdout",
     "output_type": "stream",
     "text": [
      "\n",
      "Subset (rows 1-3, columns 'Name' and 'City'):\n",
      "       Name         City\n",
      "1      Bob  Los Angeles\n",
      "2  Charlie      Chicago\n",
      "3    David       Austin\n"
     ]
    }
   ],
   "source": [
    "# **3. Selection by Label and Position**\n",
    "# Select rows 1 to 3 (excluding 4th) and columns 'Name' and 'City'\n",
    "subset_df = df.iloc[1:4, [0, 2]]\n",
    "print(\"\\nSubset (rows 1-3, columns 'Name' and 'City'):\\n\", subset_df)"
   ]
  },
  {
   "cell_type": "code",
   "execution_count": 7,
   "metadata": {},
   "outputs": [
    {
     "name": "stdout",
     "output_type": "stream",
     "text": [
      "\n",
      "Rows where Age > 30:\n",
      "     Name  Age    City  Score\n",
      "3  David   35  Austin     92\n"
     ]
    }
   ],
   "source": [
    "# **4. Boolean Indexing**\n",
    "# Select rows where 'Age' is greater than 30\n",
    "gt_30_df = df[df['Age'] > 30]\n",
    "print(\"\\nRows where Age > 30:\\n\", gt_30_df)"
   ]
  },
  {
   "cell_type": "code",
   "execution_count": 8,
   "metadata": {},
   "outputs": [
    {
     "name": "stdout",
     "output_type": "stream",
     "text": [
      "\n",
      "Rows with City in 'Los Angeles' or 'Seattle':\n",
      "   Name  Age         City  Score\n",
      "1  Bob   30  Los Angeles     90\n",
      "4  Eve   22      Seattle     80\n"
     ]
    }
   ],
   "source": [
    "# **5. Filtering by Criteria**\n",
    "# Select rows where 'City' is 'Los Angeles' or 'Seattle'\n",
    "la_or_seattle_df = df[df['City'].isin(['Los Angeles', 'Seattle'])]\n",
    "print(\"\\nRows with City in 'Los Angeles' or 'Seattle':\\n\", la_or_seattle_df)\n"
   ]
  },
  {
   "cell_type": "code",
   "execution_count": 12,
   "metadata": {},
   "outputs": [
    {
     "name": "stdout",
     "output_type": "stream",
     "text": [
      "\n",
      "Sorted by Age (descending):\n",
      "       Name  Age         City  Score\n",
      "3    David   35       Austin     92\n",
      "1      Bob   30  Los Angeles     90\n",
      "2  Charlie   28      Chicago     78\n",
      "0    Alice   25     New York     85\n",
      "4      Eve   22      Seattle     80\n"
     ]
    }
   ],
   "source": [
    "# **6. Sorting**\n",
    "# Sort the DataFrame by 'Age' in descending order\n",
    "sorted_df = df.sort_values(by='Age', ascending= False)\n",
    "print(\"\\nSorted by Age (descending):\\n\", sorted_df)"
   ]
  },
  {
   "cell_type": "code",
   "execution_count": 13,
   "metadata": {},
   "outputs": [
    {
     "name": "stdout",
     "output_type": "stream",
     "text": [
      "\n",
      "Average Score by City:\n",
      " City\n",
      "Austin         92.0\n",
      "Chicago        78.0\n",
      "Los Angeles    90.0\n",
      "New York       85.0\n",
      "Seattle        80.0\n",
      "Name: Score, dtype: float64\n"
     ]
    }
   ],
   "source": [
    "# **7. Grouping**\n",
    "# Group data by 'City' and calculate average 'Score'\n",
    "avg_score_by_city = df.groupby('City')['Score'].mean()\n",
    "print(\"\\nAverage Score by City:\\n\", avg_score_by_city)"
   ]
  },
  {
   "cell_type": "code",
   "execution_count": 16,
   "metadata": {},
   "outputs": [
    {
     "name": "stdout",
     "output_type": "stream",
     "text": [
      "\n",
      "Mean of Age: 28.0\n",
      "Median of Age: 28.0\n",
      "Mode of Age: 22\n"
     ]
    }
   ],
   "source": [
    "# Calculate mean, median, and mode for 'Age'\n",
    "age_mean = df['Age'].mean()\n",
    "age_median = df['Age'].median()\n",
    "age_mode = df['Age'].mode()[0]  # Accessing the first mode value\n",
    "\n",
    "print(f\"\\nMean of Age: {age_mean}\")\n",
    "print(f\"Median of Age: {age_median}\")\n",
    "print(f\"Mode of Age: {age_mode}\")\n"
   ]
  },
  {
   "cell_type": "code",
   "execution_count": null,
   "metadata": {},
   "outputs": [],
   "source": [
    "# **3. Data Frame Shape**\n",
    "# Get the dimensions (rows, columns) of the DataFrame\n",
    "df_shape = df.shape\n",
    "print(f\"\\nShape of DataFrame (rows, columns): {df_shape}\")"
   ]
  },
  {
   "cell_type": "code",
   "execution_count": null,
   "metadata": {},
   "outputs": [],
   "source": [
    "#removing rows \n",
    "csv.drop(0, inplace=True)\n",
    "\n",
    "#remove all rows with null values \n",
    "csv.dropna()"
   ]
  },
  {
   "cell_type": "code",
   "execution_count": null,
   "metadata": {},
   "outputs": [],
   "source": [
    "#fill new values in empty spaces\n",
    "csv.fillna(100,inplace=True)"
   ]
  }
 ],
 "metadata": {
  "kernelspec": {
   "display_name": "Python 3",
   "language": "python",
   "name": "python3"
  },
  "language_info": {
   "codemirror_mode": {
    "name": "ipython",
    "version": 3
   },
   "file_extension": ".py",
   "mimetype": "text/x-python",
   "name": "python",
   "nbconvert_exporter": "python",
   "pygments_lexer": "ipython3",
   "version": "3.11.7"
  }
 },
 "nbformat": 4,
 "nbformat_minor": 2
}
